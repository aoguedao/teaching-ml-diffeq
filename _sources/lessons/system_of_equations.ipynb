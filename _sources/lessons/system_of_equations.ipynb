{
 "cells": [
  {
   "attachments": {},
   "cell_type": "markdown",
   "metadata": {},
   "source": [
    "# System of Equations"
   ]
  },
  {
   "attachments": {},
   "cell_type": "markdown",
   "metadata": {},
   "source": [
    "Let's motivate this section with  the __Lotka-Volterra equations__, also known as the predator-prey equations, are a pair of first-order nonlinear differential equations, frequently used to describe the dynamics of biological systems in which two species interact. The populations change through time according to the pair of equations:"
   ]
  },
  {
   "attachments": {},
   "cell_type": "markdown",
   "metadata": {},
   "source": [
    "$$\n",
    "\\dfrac{dx}{dt} = \\alpha x - \\beta xy \\\\\n",
    "\\dfrac{dy}{dt} = -\\gamma y + \\delta xy\n",
    "$$"
   ]
  },
  {
   "attachments": {},
   "cell_type": "markdown",
   "metadata": {},
   "source": [
    "where\n",
    "- $x$ is the number of prey;\n",
    "- $y$ is the number of some predator;\n",
    "- ${\\tfrac {dy}{dt}}$ and ${\\tfrac {dx}{dt}}$ represent the instantaneous growth rates of the two populations;\n",
    "- $t$ represents time;\n",
    "- $\\alpha$, $\\beta$, $\\gamma$ and $\\delta$ are positive real parameters describing the interaction of the two species."
   ]
  },
  {
   "attachments": {},
   "cell_type": "markdown",
   "metadata": {},
   "source": [
    "## Physics-Informed Neural Networks"
   ]
  },
  {
   "cell_type": "markdown",
   "metadata": {},
   "source": [
    "For years mathematicians and physicists are trying to model the world with differential equations. However, since the advent of techniques such as machine learning, neural networks and deep learning together with greater computing power, community has speculated that we could learn automatically (algorithms) anything with a enough amount of data. However, it seems this is not really true.\n",
    "\n",
    "Philosophical Question: Could have a _machine_ discovered Newton's laws?"
   ]
  },
  {
   "cell_type": "markdown",
   "metadata": {},
   "source": [
    "In 2019, Raissi, Perdikaris and Karniadakis introduced Physics-Informed Neural Networks (PINNs), neural networks that are trained to solve supervised learning tasks while respecting any given law of physics described by general nonlinear partial differential equations ([source](https://www.sciencedirect.com/science/article/pii/S0021999118307125)). PINNs are nowadays used to solve PDEs, fractional equations, and integral-differential equations."
   ]
  },
  {
   "attachments": {},
   "cell_type": "markdown",
   "metadata": {},
   "source": [
    "PINNs approximate PDE solutions by training a neural network to minimize a loss function, including:\n",
    "\n",
    "* Initial and boundary conditions along the space-time domain’s boundary\n",
    "* PDE residual at selected points in the domain.\n",
    "\n",
    "If you want to do a simplified analogy, initial and boundary conditions points will be an usual training dataset, but also it is necessary to embed physical laws (PDE) into the neural network."
   ]
  },
  {
   "attachments": {},
   "cell_type": "markdown",
   "metadata": {},
   "source": [
    "PINNs can solve differential equations expressed, in the most general form, like:\n",
    "\n",
    "$$\n",
    "\\begin{align*}\n",
    "\\mathcal{F}(u(z); \\lambda) &= f(z) \\quad z \\text{ in } \\Omega \\\\\n",
    "\\mathcal{B}(u(z)) &= g(z) \\quad z \\text{ in } \\partial \\Omega\n",
    "\\end{align*}\n",
    "$$ \n",
    "\n",
    "defined on the domain $\\Omega \\subset \\mathbb{R}^d$ with the boundary $\\partial \\Omega$. Where\n",
    "- $z := (x_1, x_2, \\ldots, t)^\\top$ indicated the space-time coordinate vector,\n",
    "- $u$ the unknown function,\n",
    "- $\\lambda$ the parameters related to the physics,\n",
    "- $\\mathcal{F}$ the non-linear differential operator,\n",
    "- $f$ the function identifying the data of the problem,\n",
    "- $\\mathcal{B}$ the operator indicating arbitrary initial or boundary conditions, and\n",
    "- $g$ the boundary function.\n",
    "\n",
    "In the PINN methodology, $u(z)$ is computationally predicted by a NN, parametrized by a set of parameters $\\theta$, giving rise to an approximation\n",
    "$$\n",
    "\\hat{u}_\\theta(z) \\approx u(z)\n",
    "$$\n",
    "\n",
    "The optimization problem we want to deal with it is\n",
    "\n",
    "$$\n",
    "\\min_\\theta \\; \\omega_\\mathcal{F} \\mathcal{L}_\\mathcal{F}(\\theta) + \\omega_\\mathcal{B} \\mathcal{L}_\\mathcal{B}(\\theta) + \\omega_{\\text{data}} \\mathcal{L}_{\\text{data}}(\\theta)\n",
    "$$\n",
    "\n",
    "this is three weighted loss functions, each one depending on\n",
    "- $\\mathcal{L}_\\mathcal{F}$, differential equation, \n",
    "- $\\mathcal{L}_\\mathcal{B}$, boundary conditions, and\n",
    "- $\\mathcal{L}_{\\text{data}}$, (eventually) some known data.\n",
    "\n",
    "![PINNs](https://media.springernature.com/full/springer-static/image/art%3A10.1007%2Fs10915-022-01939-z/MediaObjects/10915_2022_1939_Fig2_HTML.png?as=webp)\n",
    "\n",
    "[Source](https://link.springer.com/article/10.1007/s10915-022-01939-z)"
   ]
  },
  {
   "attachments": {},
   "cell_type": "markdown",
   "metadata": {},
   "source": [
    "## PINNs solving ODEs"
   ]
  },
  {
   "attachments": {},
   "cell_type": "markdown",
   "metadata": {},
   "source": [
    "For our Lotka-Volterra system the solution $u$ will be a vector such that \n",
    "$$\n",
    "u(t) = (x(t), y(t))^\\top\n",
    "$$\n",
    "and there are not boundary conditions, only initial conditions.\n",
    "\n",
    "We want to train a network that looks like this\n",
    "\n",
    "![lotka_volterra_pinn](../images/lotka_volterra_pinn.png)"
   ]
  },
  {
   "attachments": {},
   "cell_type": "markdown",
   "metadata": {},
   "source": [
    "## Import packages"
   ]
  },
  {
   "attachments": {},
   "cell_type": "markdown",
   "metadata": {},
   "source": [
    "The most important package is `deepxde`, which allows us to implement Physic-Informed Neural Networs approaches with a few lines of code. We will need `numpy` for array operations, `matplotlib` for visualizations and `scipy` for getting the real solution (which is not always possible, if not we would only use this approach)."
   ]
  },
  {
   "cell_type": "code",
   "execution_count": 1,
   "metadata": {},
   "outputs": [],
   "source": [
    "# !pip install deepxde  # Run this line if you are in Google Colab"
   ]
  },
  {
   "cell_type": "code",
   "execution_count": 2,
   "metadata": {},
   "outputs": [
    {
     "name": "stderr",
     "output_type": "stream",
     "text": [
      "Using backend: tensorflow.compat.v1\n",
      "\n",
      "2023-03-09 13:03:36.606784: I tensorflow/core/platform/cpu_feature_guard.cc:193] This TensorFlow binary is optimized with oneAPI Deep Neural Network Library (oneDNN) to use the following CPU instructions in performance-critical operations:  AVX2 AVX512F AVX512_VNNI AVX512_BF16 FMA\n",
      "To enable them in other operations, rebuild TensorFlow with the appropriate compiler flags.\n",
      "2023-03-09 13:03:36.690883: I tensorflow/core/util/port.cc:104] oneDNN custom operations are on. You may see slightly different numerical results due to floating-point round-off errors from different computation orders. To turn them off, set the environment variable `TF_ENABLE_ONEDNN_OPTS=0`.\n",
      "2023-03-09 13:03:37.097731: W tensorflow/compiler/xla/stream_executor/platform/default/dso_loader.cc:64] Could not load dynamic library 'libnvinfer.so.7'; dlerror: libnvinfer.so.7: cannot open shared object file: No such file or directory; LD_LIBRARY_PATH: :/home/alonsolml/mambaforge/envs/nc-book/lib/:/home/alonsolml/mambaforge/envs/nc-book/lib/\n",
      "2023-03-09 13:03:37.099377: W tensorflow/compiler/xla/stream_executor/platform/default/dso_loader.cc:64] Could not load dynamic library 'libnvinfer_plugin.so.7'; dlerror: libnvinfer_plugin.so.7: cannot open shared object file: No such file or directory; LD_LIBRARY_PATH: :/home/alonsolml/mambaforge/envs/nc-book/lib/:/home/alonsolml/mambaforge/envs/nc-book/lib/\n",
      "2023-03-09 13:03:37.099388: W tensorflow/compiler/tf2tensorrt/utils/py_utils.cc:38] TF-TRT Warning: Cannot dlopen some TensorRT libraries. If you would like to use Nvidia GPU with TensorRT, please make sure the missing libraries mentioned above are installed properly.\n"
     ]
    },
    {
     "name": "stdout",
     "output_type": "stream",
     "text": [
      "WARNING:tensorflow:From /home/alonsolml/mambaforge/envs/nc-book/lib/python3.10/site-packages/tensorflow/python/compat/v2_compat.py:107: disable_resource_variables (from tensorflow.python.ops.variable_scope) is deprecated and will be removed in a future version.\n",
      "Instructions for updating:\n",
      "non-resource variables are not supported in the long term\n",
      "Enable just-in-time compilation with XLA.\n",
      "\n"
     ]
    },
    {
     "name": "stderr",
     "output_type": "stream",
     "text": [
      "2023-03-09 13:03:37.942243: I tensorflow/compiler/xla/stream_executor/cuda/cuda_gpu_executor.cc:967] could not open file to read NUMA node: /sys/bus/pci/devices/0000:01:00.0/numa_node\n",
      "Your kernel may have been built without NUMA support.\n",
      "2023-03-09 13:03:37.982704: I tensorflow/compiler/xla/stream_executor/cuda/cuda_gpu_executor.cc:967] could not open file to read NUMA node: /sys/bus/pci/devices/0000:01:00.0/numa_node\n",
      "Your kernel may have been built without NUMA support.\n",
      "2023-03-09 13:03:37.982743: I tensorflow/compiler/xla/stream_executor/cuda/cuda_gpu_executor.cc:967] could not open file to read NUMA node: /sys/bus/pci/devices/0000:01:00.0/numa_node\n",
      "Your kernel may have been built without NUMA support.\n"
     ]
    },
    {
     "name": "stdout",
     "output_type": "stream",
     "text": [
      "WARNING:tensorflow:From /home/alonsolml/mambaforge/envs/nc-book/lib/python3.10/site-packages/deepxde/nn/initializers.py:118: The name tf.keras.initializers.he_normal is deprecated. Please use tf.compat.v1.keras.initializers.he_normal instead.\n",
      "\n"
     ]
    }
   ],
   "source": [
    "import numpy as np\n",
    "import matplotlib.pyplot as plt\n",
    "import deepxde as dde\n",
    "\n",
    "from scipy.integrate import solve_ivp\n",
    "from deepxde.backend import tf"
   ]
  },
  {
   "attachments": {},
   "cell_type": "markdown",
   "metadata": {},
   "source": [
    "## ODE Residuals"
   ]
  },
  {
   "attachments": {},
   "cell_type": "markdown",
   "metadata": {},
   "source": [
    "Since we are trying to embed the physics onto the neural networks we need to define "
   ]
  },
  {
   "cell_type": "code",
   "execution_count": 3,
   "metadata": {},
   "outputs": [],
   "source": [
    "alpha = 2 / 3\n",
    "beta = 4 / 3\n",
    "gamma = 1\n",
    "delta = 1"
   ]
  },
  {
   "cell_type": "code",
   "execution_count": 4,
   "metadata": {},
   "outputs": [],
   "source": [
    "def ode(t, Y):\n",
    "    x = Y[:, 0:1]\n",
    "    y = Y[:, 1:2]\n",
    "\n",
    "    dx_dt = dde.grad.jacobian(Y, t, i=0)\n",
    "    dy_dt = dde.grad.jacobian(Y, t, i=1)\n",
    "    \n",
    "    return [\n",
    "        dx_dt - alpha * x + beta * x * y,\n",
    "        dy_dt + gamma * y  - delta * x * y\n",
    "    ]"
   ]
  },
  {
   "attachments": {},
   "cell_type": "markdown",
   "metadata": {},
   "source": [
    "Here `t` is the indepent variable and `Y` is an array with two columns (since our system considers two equations). To define the first derivative is as easy as using `dde.grad.jacobian`, just be sure about the component `i`, in this case we decided `i=0` corresponds to the variable $x(t)$ and `i=1` to $y(t)$."
   ]
  },
  {
   "attachments": {},
   "cell_type": "markdown",
   "metadata": {},
   "source": [
    "## Initial conditions"
   ]
  },
  {
   "attachments": {},
   "cell_type": "markdown",
   "metadata": {},
   "source": [
    "It is important to decide a time invertal where we will working on. As an example let's consider between $t=0$ and $t=1$."
   ]
  },
  {
   "cell_type": "code",
   "execution_count": 5,
   "metadata": {},
   "outputs": [],
   "source": [
    "t_initial = 0\n",
    "t_final = 10"
   ]
  },
  {
   "cell_type": "markdown",
   "metadata": {},
   "source": [
    "And now we need to declare this element for our neural network, if not, the algorithm wouldn't know where to make the estimations."
   ]
  },
  {
   "cell_type": "code",
   "execution_count": 6,
   "metadata": {},
   "outputs": [],
   "source": [
    "geom = dde.geometry.TimeDomain(t_initial, t_final)"
   ]
  },
  {
   "attachments": {},
   "cell_type": "markdown",
   "metadata": {},
   "source": [
    "Then we have to create a function for defining boundaries, since our geometry it is only on time we will use the default one, don't worry about it."
   ]
  },
  {
   "cell_type": "code",
   "execution_count": 7,
   "metadata": {},
   "outputs": [],
   "source": [
    "def boundary(_, on_initial):\n",
    "    return on_initial"
   ]
  },
  {
   "attachments": {},
   "cell_type": "markdown",
   "metadata": {},
   "source": [
    "Let's choose initial conditions for $x$ and $y$"
   ]
  },
  {
   "cell_type": "code",
   "execution_count": 8,
   "metadata": {},
   "outputs": [],
   "source": [
    "x0 = 1.2\n",
    "y0 = 0.8"
   ]
  },
  {
   "attachments": {},
   "cell_type": "markdown",
   "metadata": {},
   "source": [
    "And then we have to tell to our algorithm these are the initial conditions for the learning process"
   ]
  },
  {
   "cell_type": "code",
   "execution_count": 9,
   "metadata": {},
   "outputs": [],
   "source": [
    "ic_x = dde.icbc.IC(geom, lambda x: x0, boundary, component=0)\n",
    "ic_y = dde.icbc.IC(geom, lambda x: y0, boundary, component=1)"
   ]
  },
  {
   "attachments": {},
   "cell_type": "markdown",
   "metadata": {},
   "source": [
    "## Data object"
   ]
  },
  {
   "attachments": {},
   "cell_type": "markdown",
   "metadata": {},
   "source": [
    "Everything related to the differential equations and initial conditions has to be inside a new object `dde.data.PDE` (do not worry, it also consider systems of ordinary differential equations)."
   ]
  },
  {
   "cell_type": "code",
   "execution_count": 10,
   "metadata": {},
   "outputs": [],
   "source": [
    "data = dde.data.PDE(\n",
    "    geom,\n",
    "    ode,\n",
    "    [ic_x, ic_y],\n",
    "    num_domain=512,\n",
    "    num_boundary=2\n",
    ")"
   ]
  },
  {
   "attachments": {},
   "cell_type": "markdown",
   "metadata": {},
   "source": [
    "In order to test our model we need more points, we considered 512 points inside our domain with `num_domain=512`. Finally, since we are working on a time domain there are only two points in its boundary (`num_boundary=2`)."
   ]
  },
  {
   "attachments": {},
   "cell_type": "markdown",
   "metadata": {},
   "source": [
    "## Neural Network"
   ]
  },
  {
   "attachments": {},
   "cell_type": "markdown",
   "metadata": {},
   "source": [
    "It is time for choosing a neural network architecture. For simplicity, we will use a Fully-connected neural network (`dde.nn.FNN'). The most important things are:\n",
    "\n",
    "- Input layer (the first one) needs only one node/neuron since our indepent variable is only time $t$.\n",
    "- The output layer (the last one) nneds two nodes/neurons since we are working on a system of two equations.\n",
    "\n",
    "Do not worry so much about the amount of layers or neurons in each hidden layer, as a rule of thumb error should decrease while you add more layers and neurons, but it will take more computational time. Activation functions and the initializer are more parameters the user must choose, usually `Glorot normal` works well as initializer. However, we would recommend you to try different activation functions, for example, `relu`, `sigmoid` or `swish`."
   ]
  },
  {
   "cell_type": "code",
   "execution_count": 11,
   "metadata": {},
   "outputs": [],
   "source": [
    "neurons = 64\n",
    "layers = 6\n",
    "activation = \"tanh\"\n",
    "initializer = \"Glorot normal\"\n",
    "net = dde.nn.FNN([1] + [neurons] * layers + [2], activation, initializer)"
   ]
  },
  {
   "attachments": {},
   "cell_type": "markdown",
   "metadata": {},
   "source": [
    "## Model"
   ]
  },
  {
   "attachments": {},
   "cell_type": "markdown",
   "metadata": {},
   "source": [
    "The library we are working with needs put everything together in a new object, but it is just one line of code."
   ]
  },
  {
   "cell_type": "code",
   "execution_count": 12,
   "metadata": {},
   "outputs": [],
   "source": [
    "model = dde.Model(data, net)"
   ]
  },
  {
   "attachments": {},
   "cell_type": "markdown",
   "metadata": {},
   "source": [
    "## Training"
   ]
  },
  {
   "attachments": {},
   "cell_type": "markdown",
   "metadata": {},
   "source": [
    "For training we will go with an Adam optimizer (a very popular one nowadays) and a learning rate of 0.001 (smaller learning rates may give you better results but it will take many more iterations).\n",
    "\n",
    "Just for simplicity we will take 50000 iterations, but another rule of thumb it is that as you increase the number of iterations the loss value should decrease as well."
   ]
  },
  {
   "cell_type": "code",
   "execution_count": 13,
   "metadata": {},
   "outputs": [
    {
     "name": "stdout",
     "output_type": "stream",
     "text": [
      "Compiling model...\n",
      "Building feed-forward neural network...\n",
      "'build' took 0.036162 s\n",
      "\n"
     ]
    },
    {
     "name": "stderr",
     "output_type": "stream",
     "text": [
      "/home/alonsolml/mambaforge/envs/nc-book/lib/python3.10/site-packages/deepxde/nn/tensorflow_compat_v1/fnn.py:103: UserWarning: `tf.layers.dense` is deprecated and will be removed in a future version. Please use `tf.keras.layers.Dense` instead.\n",
      "  return tf.layers.dense(\n",
      "2023-03-09 13:03:38.975823: I tensorflow/core/platform/cpu_feature_guard.cc:193] This TensorFlow binary is optimized with oneAPI Deep Neural Network Library (oneDNN) to use the following CPU instructions in performance-critical operations:  AVX2 AVX512F AVX512_VNNI AVX512_BF16 FMA\n",
      "To enable them in other operations, rebuild TensorFlow with the appropriate compiler flags.\n",
      "2023-03-09 13:03:38.976763: I tensorflow/compiler/xla/stream_executor/cuda/cuda_gpu_executor.cc:967] could not open file to read NUMA node: /sys/bus/pci/devices/0000:01:00.0/numa_node\n",
      "Your kernel may have been built without NUMA support.\n",
      "2023-03-09 13:03:38.976821: I tensorflow/compiler/xla/stream_executor/cuda/cuda_gpu_executor.cc:967] could not open file to read NUMA node: /sys/bus/pci/devices/0000:01:00.0/numa_node\n",
      "Your kernel may have been built without NUMA support.\n",
      "2023-03-09 13:03:38.976848: I tensorflow/compiler/xla/stream_executor/cuda/cuda_gpu_executor.cc:967] could not open file to read NUMA node: /sys/bus/pci/devices/0000:01:00.0/numa_node\n",
      "Your kernel may have been built without NUMA support.\n",
      "2023-03-09 13:03:39.402877: I tensorflow/compiler/xla/stream_executor/cuda/cuda_gpu_executor.cc:967] could not open file to read NUMA node: /sys/bus/pci/devices/0000:01:00.0/numa_node\n",
      "Your kernel may have been built without NUMA support.\n",
      "2023-03-09 13:03:39.402943: I tensorflow/compiler/xla/stream_executor/cuda/cuda_gpu_executor.cc:967] could not open file to read NUMA node: /sys/bus/pci/devices/0000:01:00.0/numa_node\n",
      "Your kernel may have been built without NUMA support.\n",
      "2023-03-09 13:03:39.402949: I tensorflow/core/common_runtime/gpu/gpu_device.cc:1700] Could not identify NUMA node of platform GPU id 0, defaulting to 0.  Your kernel may not have been built with NUMA support.\n",
      "2023-03-09 13:03:39.402970: I tensorflow/compiler/xla/stream_executor/cuda/cuda_gpu_executor.cc:967] could not open file to read NUMA node: /sys/bus/pci/devices/0000:01:00.0/numa_node\n",
      "Your kernel may have been built without NUMA support.\n",
      "2023-03-09 13:03:39.402978: W tensorflow/core/common_runtime/gpu/gpu_bfc_allocator.cc:42] Overriding orig_value setting because the TF_FORCE_GPU_ALLOW_GROWTH environment variable is set. Original config value was 0.\n",
      "2023-03-09 13:03:39.402997: I tensorflow/core/common_runtime/gpu/gpu_device.cc:1613] Created device /job:localhost/replica:0/task:0/device:GPU:0 with 7369 MB memory:  -> device: 0, name: NVIDIA GeForce RTX 3080, pci bus id: 0000:01:00.0, compute capability: 8.6\n"
     ]
    },
    {
     "name": "stdout",
     "output_type": "stream",
     "text": [
      "'compile' took 0.677031 s\n",
      "\n",
      "Initializing variables...\n",
      "Training model...\n",
      "\n"
     ]
    },
    {
     "name": "stderr",
     "output_type": "stream",
     "text": [
      "2023-03-09 13:03:39.625793: I tensorflow/compiler/mlir/mlir_graph_optimization_pass.cc:357] MLIR V1 optimization pass is not enabled\n",
      "2023-03-09 13:03:39.680870: I tensorflow/compiler/xla/service/service.cc:173] XLA service 0x7fa33c004960 initialized for platform CUDA (this does not guarantee that XLA will be used). Devices:\n",
      "2023-03-09 13:03:39.680896: I tensorflow/compiler/xla/service/service.cc:181]   StreamExecutor device (0): NVIDIA GeForce RTX 3080, Compute Capability 8.6\n",
      "2023-03-09 13:03:39.684562: I tensorflow/compiler/mlir/tensorflow/utils/dump_mlir_util.cc:268] disabling MLIR crash reproducer, set env var `MLIR_CRASH_REPRODUCER_DIRECTORY` to enable.\n",
      "2023-03-09 13:03:39.825130: I tensorflow/tsl/platform/default/subprocess.cc:304] Start cannot spawn child process: Permission denied\n",
      "2023-03-09 13:03:39.933008: I tensorflow/compiler/jit/xla_compilation_cache.cc:477] Compiled cluster using XLA!  This line is logged at most once for the lifetime of the process.\n"
     ]
    },
    {
     "name": "stdout",
     "output_type": "stream",
     "text": [
      "Step      Train loss                                  Test loss                                   Test metric\n",
      "0         [4.01e-03, 5.47e-02, 1.44e+00, 6.40e-01]    [4.01e-03, 5.47e-02, 1.44e+00, 6.40e-01]    []  \n"
     ]
    },
    {
     "name": "stderr",
     "output_type": "stream",
     "text": [
      "2023-03-09 13:03:40.812920: I tensorflow/compiler/xla/stream_executor/cuda/cuda_blas.cc:630] TensorFloat-32 will be used for the matrix multiplication. This will only be logged once.\n"
     ]
    },
    {
     "name": "stdout",
     "output_type": "stream",
     "text": [
      "1000      [8.84e-03, 2.32e-03, 1.95e-05, 9.30e-05]    [8.84e-03, 2.32e-03, 1.95e-05, 9.30e-05]    []  \n",
      "2000      [9.04e-03, 2.18e-03, 2.00e-05, 8.67e-05]    [9.04e-03, 2.18e-03, 2.00e-05, 8.67e-05]    []  \n",
      "3000      [8.80e-03, 2.34e-03, 1.66e-05, 8.83e-05]    [8.80e-03, 2.34e-03, 1.66e-05, 8.83e-05]    []  \n",
      "4000      [8.60e-03, 2.57e-03, 1.45e-05, 8.10e-05]    [8.60e-03, 2.57e-03, 1.45e-05, 8.10e-05]    []  \n",
      "5000      [8.77e-03, 2.35e-03, 2.01e-05, 8.98e-05]    [8.77e-03, 2.35e-03, 2.01e-05, 8.98e-05]    []  \n",
      "6000      [8.91e-03, 1.86e-03, 3.99e-05, 1.84e-04]    [8.91e-03, 1.86e-03, 3.99e-05, 1.84e-04]    []  \n",
      "7000      [4.96e-04, 1.08e-03, 2.23e-07, 1.30e-05]    [4.96e-04, 1.08e-03, 2.23e-07, 1.30e-05]    []  \n",
      "8000      [1.79e-04, 6.10e-04, 1.88e-10, 6.24e-06]    [1.79e-04, 6.10e-04, 1.88e-10, 6.24e-06]    []  \n",
      "9000      [4.10e-05, 2.01e-05, 1.72e-06, 1.61e-06]    [4.10e-05, 2.01e-05, 1.72e-06, 1.61e-06]    []  \n",
      "10000     [7.86e-06, 5.86e-06, 2.36e-05, 5.12e-07]    [7.86e-06, 5.86e-06, 2.36e-05, 5.12e-07]    []  \n",
      "11000     [2.79e-06, 7.32e-07, 6.25e-07, 3.55e-13]    [2.79e-06, 7.32e-07, 6.25e-07, 3.55e-13]    []  \n",
      "12000     [3.88e-06, 2.69e-06, 3.41e-06, 7.00e-07]    [3.88e-06, 2.69e-06, 3.41e-06, 7.00e-07]    []  \n",
      "13000     [8.59e-05, 3.13e-05, 3.94e-06, 4.70e-06]    [8.59e-05, 3.13e-05, 3.94e-06, 4.70e-06]    []  \n",
      "14000     [2.05e-04, 7.82e-05, 1.75e-05, 1.36e-05]    [2.05e-04, 7.82e-05, 1.75e-05, 1.36e-05]    []  \n",
      "15000     [1.26e-05, 1.34e-05, 1.78e-05, 3.25e-07]    [1.26e-05, 1.34e-05, 1.78e-05, 3.25e-07]    []  \n",
      "16000     [1.91e-06, 7.64e-07, 1.70e-06, 1.15e-11]    [1.91e-06, 7.64e-07, 1.70e-06, 1.15e-11]    []  \n",
      "17000     [5.44e-05, 8.93e-06, 1.48e-07, 2.87e-06]    [5.44e-05, 8.93e-06, 1.48e-07, 2.87e-06]    []  \n",
      "18000     [2.75e-06, 4.60e-07, 3.48e-07, 1.83e-06]    [2.75e-06, 4.60e-07, 3.48e-07, 1.83e-06]    []  \n",
      "19000     [1.58e-05, 2.33e-05, 9.86e-06, 5.95e-07]    [1.58e-05, 2.33e-05, 9.86e-06, 5.95e-07]    []  \n",
      "20000     [5.33e-07, 2.35e-07, 4.01e-07, 1.05e-07]    [5.33e-07, 2.35e-07, 4.01e-07, 1.05e-07]    []  \n",
      "21000     [2.04e-06, 2.47e-06, 6.40e-06, 4.67e-07]    [2.04e-06, 2.47e-06, 6.40e-06, 4.67e-07]    []  \n",
      "22000     [1.58e-05, 5.87e-06, 2.17e-06, 2.67e-07]    [1.58e-05, 5.87e-06, 2.17e-06, 2.67e-07]    []  \n",
      "23000     [4.29e-05, 1.24e-05, 2.43e-06, 4.74e-07]    [4.29e-05, 1.24e-05, 2.43e-06, 4.74e-07]    []  \n",
      "24000     [4.49e-04, 7.36e-05, 1.27e-04, 1.38e-05]    [4.49e-04, 7.36e-05, 1.27e-04, 1.38e-05]    []  \n",
      "25000     [4.50e-07, 5.36e-07, 2.70e-07, 7.21e-07]    [4.50e-07, 5.36e-07, 2.70e-07, 7.21e-07]    []  \n",
      "26000     [2.41e-05, 2.24e-05, 1.33e-05, 7.61e-06]    [2.41e-05, 2.24e-05, 1.33e-05, 7.61e-06]    []  \n",
      "27000     [5.00e-06, 2.15e-06, 1.66e-07, 1.01e-08]    [5.00e-06, 2.15e-06, 1.66e-07, 1.01e-08]    []  \n",
      "28000     [3.37e-06, 3.45e-06, 7.10e-06, 1.19e-09]    [3.37e-06, 3.45e-06, 7.10e-06, 1.19e-09]    []  \n",
      "29000     [2.45e-06, 7.89e-07, 1.09e-06, 1.44e-07]    [2.45e-06, 7.89e-07, 1.09e-06, 1.44e-07]    []  \n",
      "30000     [2.08e-06, 3.56e-06, 8.24e-06, 7.50e-08]    [2.08e-06, 3.56e-06, 8.24e-06, 7.50e-08]    []  \n",
      "31000     [2.78e-06, 4.43e-06, 7.56e-06, 1.35e-06]    [2.78e-06, 4.43e-06, 7.56e-06, 1.35e-06]    []  \n",
      "32000     [3.65e-05, 5.26e-06, 1.64e-06, 3.47e-06]    [3.65e-05, 5.26e-06, 1.64e-06, 3.47e-06]    []  \n",
      "33000     [3.29e-06, 1.88e-06, 3.45e-07, 7.87e-09]    [3.29e-06, 1.88e-06, 3.45e-07, 7.87e-09]    []  \n",
      "34000     [1.07e-05, 2.55e-06, 9.65e-06, 3.03e-06]    [1.07e-05, 2.55e-06, 9.65e-06, 3.03e-06]    []  \n",
      "35000     [3.79e-07, 1.75e-07, 3.45e-07, 1.90e-07]    [3.79e-07, 1.75e-07, 3.45e-07, 1.90e-07]    []  \n",
      "36000     [1.00e-05, 4.97e-06, 2.14e-06, 7.40e-08]    [1.00e-05, 4.97e-06, 2.14e-06, 7.40e-08]    []  \n",
      "37000     [5.22e-06, 5.96e-06, 2.49e-06, 3.46e-07]    [5.22e-06, 5.96e-06, 2.49e-06, 3.46e-07]    []  \n",
      "38000     [2.56e-06, 1.38e-06, 1.82e-07, 4.69e-07]    [2.56e-06, 1.38e-06, 1.82e-07, 4.69e-07]    []  \n",
      "39000     [6.10e-07, 5.59e-07, 3.67e-08, 1.42e-07]    [6.10e-07, 5.59e-07, 3.67e-08, 1.42e-07]    []  \n",
      "40000     [5.80e-07, 2.71e-07, 2.50e-07, 4.71e-09]    [5.80e-07, 2.71e-07, 2.50e-07, 4.71e-09]    []  \n",
      "41000     [1.21e-06, 7.44e-07, 1.25e-07, 4.54e-09]    [1.21e-06, 7.44e-07, 1.25e-07, 4.54e-09]    []  \n",
      "42000     [6.02e-06, 2.64e-06, 1.39e-06, 3.44e-10]    [6.02e-06, 2.64e-06, 1.39e-06, 3.44e-10]    []  \n",
      "43000     [1.06e-05, 8.87e-06, 2.73e-07, 1.02e-06]    [1.06e-05, 8.87e-06, 2.73e-07, 1.02e-06]    []  \n",
      "44000     [1.69e-06, 1.65e-06, 9.30e-07, 1.93e-07]    [1.69e-06, 1.65e-06, 9.30e-07, 1.93e-07]    []  \n",
      "45000     [1.23e-04, 1.63e-05, 2.91e-07, 1.15e-05]    [1.23e-04, 1.63e-05, 2.91e-07, 1.15e-05]    []  \n",
      "46000     [3.56e-06, 9.46e-07, 2.05e-06, 7.85e-09]    [3.56e-06, 9.46e-07, 2.05e-06, 7.85e-09]    []  \n",
      "47000     [4.69e-06, 4.57e-06, 3.76e-06, 5.72e-08]    [4.69e-06, 4.57e-06, 3.76e-06, 5.72e-08]    []  \n",
      "48000     [4.94e-05, 1.04e-05, 7.83e-08, 1.62e-06]    [4.94e-05, 1.04e-05, 7.83e-08, 1.62e-06]    []  \n",
      "49000     [3.08e-06, 1.55e-06, 7.14e-09, 4.82e-08]    [3.08e-06, 1.55e-06, 7.14e-09, 4.82e-08]    []  \n",
      "50000     [1.02e-05, 1.44e-05, 7.04e-07, 6.67e-07]    [1.02e-05, 1.44e-05, 7.04e-07, 6.67e-07]    []  \n",
      "\n",
      "Best model at step 35000:\n",
      "  train loss: 1.09e-06\n",
      "  test loss: 1.09e-06\n",
      "  test metric: []\n",
      "\n",
      "'train' took 68.344009 s\n",
      "\n"
     ]
    }
   ],
   "source": [
    "model.compile(\"adam\", lr=0.001)\n",
    "losshistory, train_state = model.train(iterations=50000)"
   ]
  },
  {
   "attachments": {},
   "cell_type": "markdown",
   "metadata": {},
   "source": [
    "We can plot the loss history with a simple command."
   ]
  },
  {
   "cell_type": "code",
   "execution_count": 15,
   "metadata": {},
   "outputs": [
    {
     "data": {
      "image/png": "[encoded data removed]",
      "text/plain": [
       "<Figure size 640x480 with 1 Axes>"
      ]
     },
     "metadata": {},
     "output_type": "display_data"
    }
   ],
   "source": [
    "dde.utils.external.plot_loss_history(losshistory)"
   ]
  },
  {
   "attachments": {},
   "cell_type": "markdown",
   "metadata": {},
   "source": [
    "## Compare"
   ]
  },
  {
   "attachments": {},
   "cell_type": "markdown",
   "metadata": {},
   "source": [
    "Now it is time to compare our model. We chose the Lotka-Volterra because we can obtain the solution with a Runge-Kuta algorithm, for instance, we used `solve_ivp` from `scipy`."
   ]
  },
  {
   "cell_type": "code",
   "execution_count": 16,
   "metadata": {},
   "outputs": [],
   "source": [
    "def generate_data(\n",
    "    t,\n",
    "    x0,\n",
    "    y0,\n",
    "    alpha,\n",
    "    beta,\n",
    "    gamma,\n",
    "    delta\n",
    "):\n",
    "\n",
    "    def func(t, Y):\n",
    "        x, y = Y\n",
    "        dx_dt = alpha * x - beta * x * y\n",
    "        dy_dt = - gamma * y  + delta * x * y\n",
    "        return dx_dt, dy_dt\n",
    "\n",
    "    Y0 = [x0, y0]\n",
    "    t_span = (t[0], t[-1])\n",
    "    sol = solve_ivp(func, t_span, Y0, t_eval=t)\n",
    "    x_true, y_true = sol.y\n",
    "    return x_true, y_true"
   ]
  },
  {
   "attachments": {},
   "cell_type": "markdown",
   "metadata": {},
   "source": [
    "Let's generate a fine grid of time, generate data with Runge-Kuta and then compare both approaches in the same plot."
   ]
  },
  {
   "cell_type": "code",
   "execution_count": 17,
   "metadata": {},
   "outputs": [
    {
     "data": {
      "image/png": "[encoded data removed]",
      "text/plain": [
       "<Figure size 640x480 with 1 Axes>"
      ]
     },
     "metadata": {},
     "output_type": "display_data"
    }
   ],
   "source": [
    "t = np.linspace(t_initial, t_final, 100)\n",
    "x_true, y_true = generate_data(t, x0, y0, alpha, beta, gamma, delta)\n",
    "plt.plot(t, x_true, color=\"green\", label=\"x_true\")\n",
    "plt.plot(t, y_true, color=\"blue\", label=\"y_true\")\n",
    "\n",
    "sol_pred = model.predict(t.reshape(-1, 1))\n",
    "x_pred = sol_pred[:, 0:1]\n",
    "y_pred = sol_pred[:, 1:2]\n",
    "\n",
    "plt.plot(t, x_pred, color=\"red\", linestyle=\"dashed\", label=\"x_pred\")\n",
    "plt.plot(t, y_pred, color=\"orange\", linestyle=\"dashed\", label=\"y_pred\")\n",
    "plt.legend()\n",
    "plt.show()"
   ]
  },
  {
   "attachments": {},
   "cell_type": "markdown",
   "metadata": {},
   "source": [
    "As you can see both algorithms gave us almost identical results. One of the pros that we would like to point out about Physics-Informed neural networks is that for more complex systems you only need to change a very few things more, specifically residuals. Most of the numerical work is done automatically by machine learning libraries as `TensorFlow`, `Torch`, `JAX`, etc. so it is easy to scale it up, even better when we can take advantage of GPUs. For you, as an user, your challenge will be in pick suitable hyper-parameters (number of layers, number of neurons, activation function, number of iterations, etc.) but this also could be done by other algorithms, however these are out of the scope of this lesson."
   ]
  }
 ],
 "metadata": {
  "kernelspec": {
   "display_name": "pinn",
   "language": "python",
   "name": "python3"
  },
  "language_info": {
   "codemirror_mode": {
    "name": "ipython",
    "version": 3
   },
   "file_extension": ".py",
   "mimetype": "text/x-python",
   "name": "python",
   "nbconvert_exporter": "python",
   "pygments_lexer": "ipython3",
   "version": "3.10.9"
  },
  "orig_nbformat": 4,
  "vscode": {
   "interpreter": {
    "hash": "405c5bcf4c9032db942388c872eee0e913b5e1c707337a4970c84578e3301274"
   }
  }
 },
 "nbformat": 4,
 "nbformat_minor": 2
}
