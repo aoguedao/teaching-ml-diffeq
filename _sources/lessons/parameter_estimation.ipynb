{
 "cells": [
  {
   "attachments": {},
   "cell_type": "markdown",
   "metadata": {},
   "source": [
    "# Parameter Estimation"
   ]
  },
  {
   "cell_type": "markdown",
   "metadata": {},
   "source": [
    "Let's motivate this section with  the __Lotka-Volterra equations__, also known as the predator-prey equations, are a pair of first-order nonlinear differential equations, frequently used to describe the dynamics of biological systems in which two species interact. The populations change through time according to the pair of equations:"
   ]
  },
  {
   "cell_type": "markdown",
   "metadata": {},
   "source": [
    "$$\n",
    "\\dfrac{dx}{dt} = \\alpha x - \\beta xy \\\\\n",
    "\\dfrac{dy}{dt} = -\\gamma y + \\delta xy\n",
    "$$"
   ]
  },
  {
   "cell_type": "markdown",
   "metadata": {},
   "source": [
    "where\n",
    "- $x$ is the number of prey;\n",
    "- $y$ is the number of some predator;\n",
    "- ${\\tfrac {dy}{dt}}$ and ${\\tfrac {dx}{dt}}$ represent the instantaneous growth rates of the two populations;\n",
    "- $t$ represents time;\n",
    "- $\\alpha$, $\\beta$, $\\gamma$ and $\\delta$ are positive real parameters describing the interaction of the two species."
   ]
  },
  {
   "cell_type": "code",
   "execution_count": 1,
   "metadata": {},
   "outputs": [
    {
     "name": "stderr",
     "output_type": "stream",
     "text": [
      "Using backend: tensorflow.compat.v1\n",
      "\n",
      "2023-02-24 23:32:50.176099: I tensorflow/core/platform/cpu_feature_guard.cc:193] This TensorFlow binary is optimized with oneAPI Deep Neural Network Library (oneDNN) to use the following CPU instructions in performance-critical operations:  AVX2 AVX512F AVX512_VNNI AVX512_BF16 FMA\n",
      "To enable them in other operations, rebuild TensorFlow with the appropriate compiler flags.\n",
      "2023-02-24 23:32:50.254203: I tensorflow/core/util/port.cc:104] oneDNN custom operations are on. You may see slightly different numerical results due to floating-point round-off errors from different computation orders. To turn them off, set the environment variable `TF_ENABLE_ONEDNN_OPTS=0`.\n",
      "2023-02-24 23:32:50.585630: W tensorflow/compiler/xla/stream_executor/platform/default/dso_loader.cc:64] Could not load dynamic library 'libnvinfer.so.7'; dlerror: libnvinfer.so.7: cannot open shared object file: No such file or directory; LD_LIBRARY_PATH: :/home/alonsolml/mambaforge/envs/pinn/lib/\n",
      "2023-02-24 23:32:50.587350: W tensorflow/compiler/xla/stream_executor/platform/default/dso_loader.cc:64] Could not load dynamic library 'libnvinfer_plugin.so.7'; dlerror: libnvinfer_plugin.so.7: cannot open shared object file: No such file or directory; LD_LIBRARY_PATH: :/home/alonsolml/mambaforge/envs/pinn/lib/\n",
      "2023-02-24 23:32:50.587358: W tensorflow/compiler/tf2tensorrt/utils/py_utils.cc:38] TF-TRT Warning: Cannot dlopen some TensorRT libraries. If you would like to use Nvidia GPU with TensorRT, please make sure the missing libraries mentioned above are installed properly.\n"
     ]
    },
    {
     "name": "stdout",
     "output_type": "stream",
     "text": [
      "WARNING:tensorflow:From /home/alonsolml/mambaforge/envs/pinn/lib/python3.10/site-packages/tensorflow/python/compat/v2_compat.py:107: disable_resource_variables (from tensorflow.python.ops.variable_scope) is deprecated and will be removed in a future version.\n",
      "Instructions for updating:\n",
      "non-resource variables are not supported in the long term\n",
      "Enable just-in-time compilation with XLA.\n",
      "\n"
     ]
    },
    {
     "name": "stderr",
     "output_type": "stream",
     "text": [
      "2023-02-24 23:32:51.147751: I tensorflow/compiler/xla/stream_executor/cuda/cuda_gpu_executor.cc:967] could not open file to read NUMA node: /sys/bus/pci/devices/0000:01:00.0/numa_node\n",
      "Your kernel may have been built without NUMA support.\n",
      "2023-02-24 23:32:51.161226: I tensorflow/compiler/xla/stream_executor/cuda/cuda_gpu_executor.cc:967] could not open file to read NUMA node: /sys/bus/pci/devices/0000:01:00.0/numa_node\n",
      "Your kernel may have been built without NUMA support.\n",
      "2023-02-24 23:32:51.161262: I tensorflow/compiler/xla/stream_executor/cuda/cuda_gpu_executor.cc:967] could not open file to read NUMA node: /sys/bus/pci/devices/0000:01:00.0/numa_node\n",
      "Your kernel may have been built without NUMA support.\n"
     ]
    },
    {
     "name": "stdout",
     "output_type": "stream",
     "text": [
      "WARNING:tensorflow:From /home/alonsolml/mambaforge/envs/pinn/lib/python3.10/site-packages/deepxde/nn/initializers.py:118: The name tf.keras.initializers.he_normal is deprecated. Please use tf.compat.v1.keras.initializers.he_normal instead.\n",
      "\n"
     ]
    }
   ],
   "source": [
    "import numpy as np\n",
    "import matplotlib.pyplot as plt\n",
    "import deepxde as dde\n",
    "\n",
    "from scipy.integrate import solve_ivp\n",
    "from deepxde.backend import tf"
   ]
  },
  {
   "attachments": {},
   "cell_type": "markdown",
   "metadata": {},
   "source": [
    "## Train Data"
   ]
  },
  {
   "attachments": {},
   "cell_type": "markdown",
   "metadata": {},
   "source": [
    "The train data will be generated by ourserlves, so we will have a better understading of the error. Let's choose a time interval and parameters."
   ]
  },
  {
   "cell_type": "code",
   "execution_count": 2,
   "metadata": {},
   "outputs": [],
   "source": [
    "t_initial = 0\n",
    "t_final = 10\n",
    "x0 = 1.2\n",
    "y0 = 0.8"
   ]
  },
  {
   "cell_type": "code",
   "execution_count": 3,
   "metadata": {},
   "outputs": [],
   "source": [
    "alpha_real = 2 / 3\n",
    "beta_real = 4 / 3\n",
    "gamma_real = 1\n",
    "delta_real = 1"
   ]
  },
  {
   "cell_type": "code",
   "execution_count": 4,
   "metadata": {},
   "outputs": [],
   "source": [
    "def generate_data(\n",
    "    t,\n",
    "    x0,\n",
    "    y0,\n",
    "    alpha,\n",
    "    beta,\n",
    "    gamma,\n",
    "    delta\n",
    "):\n",
    "\n",
    "    def func(t, Y):\n",
    "        x, y = Y\n",
    "        dx_dt = alpha * x - beta * x * y\n",
    "        dy_dt = - gamma * y  + delta * x * y\n",
    "        return dx_dt, dy_dt\n",
    "\n",
    "    Y0 = [x0, y0]\n",
    "    t_span = (t[0], t[-1])\n",
    "    sol = solve_ivp(func, t_span, Y0, t_eval=t)\n",
    "    return sol.y.T\n"
   ]
  },
  {
   "cell_type": "code",
   "execution_count": 5,
   "metadata": {},
   "outputs": [],
   "source": [
    "t_train = np.linspace(t_initial, t_final, 100)\n",
    "Y_train = generate_data(t_train, x0, y0, alpha_real, beta_real, gamma_real, delta_real)"
   ]
  },
  {
   "attachments": {},
   "cell_type": "markdown",
   "metadata": {},
   "source": [
    "## PINN"
   ]
  },
  {
   "attachments": {},
   "cell_type": "markdown",
   "metadata": {},
   "source": [
    "Now we will forget for a minute about the real values of $\\alpha$, $\\beta$, $\\gamma$ and $\\delta$ since the goal of this lesson is to learn how to estime these parameters. Let's start defining them in a way that our code knows they have to be learned."
   ]
  },
  {
   "cell_type": "code",
   "execution_count": 6,
   "metadata": {},
   "outputs": [],
   "source": [
    "# Pick some initial guess\n",
    "\n",
    "alpha = dde.Variable(0.0)\n",
    "beta = dde.Variable(0.0)\n",
    "gamma = dde.Variable(0.0)\n",
    "delta = dde.Variable(0.0)"
   ]
  },
  {
   "attachments": {},
   "cell_type": "markdown",
   "metadata": {},
   "source": [
    "Now we have to define the residuals and initial conditions in the same way the forward approximation (previous lecture)."
   ]
  },
  {
   "cell_type": "code",
   "execution_count": 7,
   "metadata": {},
   "outputs": [],
   "source": [
    "def ode(t, Y):\n",
    "    x = Y[:, 0:1]\n",
    "    y = Y[:, 1:2]\n",
    "    dx_dt = dde.grad.jacobian(Y, t, i=0)\n",
    "    dy_dt = dde.grad.jacobian(Y, t, i=1)\n",
    "    \n",
    "    return [\n",
    "        dx_dt - alpha * x + beta * x * y,\n",
    "        dy_dt + gamma * y  - delta * x * y\n",
    "    ]"
   ]
  },
  {
   "cell_type": "code",
   "execution_count": 8,
   "metadata": {},
   "outputs": [],
   "source": [
    "geom = dde.geometry.TimeDomain(t_initial, t_final)\n",
    "\n",
    "def boundary(_, on_initial):\n",
    "    return on_initial\n",
    "\n",
    "ic_x = dde.icbc.IC(geom, lambda x: x0, boundary, component=0)\n",
    "ic_y = dde.icbc.IC(geom, lambda x: y0, boundary, component=1)"
   ]
  },
  {
   "attachments": {},
   "cell_type": "markdown",
   "metadata": {},
   "source": [
    "We can use the observed data `t_train` and `Y_train` for learning the values of our parameters. So we need to declare a new object and then include it to our model."
   ]
  },
  {
   "cell_type": "code",
   "execution_count": 9,
   "metadata": {},
   "outputs": [],
   "source": [
    "observe_x = dde.icbc.PointSetBC(t_train.reshape(-1, 1), Y_train[:, 0:1], component=0)\n",
    "observe_y = dde.icbc.PointSetBC(t_train.reshape(-1, 1), Y_train[:, 1:2], component=1)"
   ]
  },
  {
   "attachments": {},
   "cell_type": "markdown",
   "metadata": {},
   "source": [
    "Be careful! Note that `component=0` is associated with the variable $x$ every time, defining the gradients, initial conditions and observed data. Same for `component=1` which corresponds to the variable $y$."
   ]
  },
  {
   "attachments": {},
   "cell_type": "markdown",
   "metadata": {},
   "source": [
    "The data object is similar but we include the observed data as well in the list of conditions. But also note that we can add the observed data as train points with the argument `anchors`."
   ]
  },
  {
   "cell_type": "code",
   "execution_count": 10,
   "metadata": {},
   "outputs": [],
   "source": [
    "data = dde.data.PDE(\n",
    "    geom,\n",
    "    ode,\n",
    "    [ic_x, ic_y, observe_x, observe_y],\n",
    "    num_domain=3000,\n",
    "    num_boundary=2,\n",
    "    anchors=t_train.reshape(-1, 1),\n",
    "    num_test = 5000,\n",
    ")"
   ]
  },
  {
   "attachments": {},
   "cell_type": "markdown",
   "metadata": {},
   "source": [
    "Now we can define our neural network"
   ]
  },
  {
   "cell_type": "code",
   "execution_count": 11,
   "metadata": {},
   "outputs": [],
   "source": [
    "neurons = 64\n",
    "layers = 6\n",
    "activation = \"tanh\"\n",
    "initializer = \"Glorot normal\"\n",
    "net = dde.nn.FNN([1] + [neurons] * layers + [2], activation, initializer)"
   ]
  },
  {
   "attachments": {},
   "cell_type": "markdown",
   "metadata": {},
   "source": [
    "## Training"
   ]
  },
  {
   "attachments": {},
   "cell_type": "markdown",
   "metadata": {},
   "source": [
    "This step is also similar, except we have to tell our model it has to learn external variables ($\\alpha$, $\\beta$, $\\gamma$ and $\\delta$)."
   ]
  },
  {
   "cell_type": "code",
   "execution_count": 12,
   "metadata": {},
   "outputs": [
    {
     "name": "stdout",
     "output_type": "stream",
     "text": [
      "Compiling model...\n",
      "Warning: For the backend tensorflow.compat.v1, `external_trainable_variables` is ignored, and all trainable ``tf.Variable`` objects are automatically collected.\n",
      "Building feed-forward neural network...\n",
      "'build' took 0.054338 s\n",
      "\n"
     ]
    },
    {
     "name": "stderr",
     "output_type": "stream",
     "text": [
      "/home/alonsolml/mambaforge/envs/pinn/lib/python3.10/site-packages/deepxde/nn/tensorflow_compat_v1/fnn.py:103: UserWarning: `tf.layers.dense` is deprecated and will be removed in a future version. Please use `tf.keras.layers.Dense` instead.\n",
      "  return tf.layers.dense(\n",
      "2023-02-24 23:32:52.341303: I tensorflow/core/platform/cpu_feature_guard.cc:193] This TensorFlow binary is optimized with oneAPI Deep Neural Network Library (oneDNN) to use the following CPU instructions in performance-critical operations:  AVX2 AVX512F AVX512_VNNI AVX512_BF16 FMA\n",
      "To enable them in other operations, rebuild TensorFlow with the appropriate compiler flags.\n",
      "2023-02-24 23:32:52.342517: I tensorflow/compiler/xla/stream_executor/cuda/cuda_gpu_executor.cc:967] could not open file to read NUMA node: /sys/bus/pci/devices/0000:01:00.0/numa_node\n",
      "Your kernel may have been built without NUMA support.\n",
      "2023-02-24 23:32:52.342614: I tensorflow/compiler/xla/stream_executor/cuda/cuda_gpu_executor.cc:967] could not open file to read NUMA node: /sys/bus/pci/devices/0000:01:00.0/numa_node\n",
      "Your kernel may have been built without NUMA support.\n",
      "2023-02-24 23:32:52.342665: I tensorflow/compiler/xla/stream_executor/cuda/cuda_gpu_executor.cc:967] could not open file to read NUMA node: /sys/bus/pci/devices/0000:01:00.0/numa_node\n",
      "Your kernel may have been built without NUMA support.\n",
      "2023-02-24 23:32:52.841769: I tensorflow/compiler/xla/stream_executor/cuda/cuda_gpu_executor.cc:967] could not open file to read NUMA node: /sys/bus/pci/devices/0000:01:00.0/numa_node\n",
      "Your kernel may have been built without NUMA support.\n",
      "2023-02-24 23:32:52.841855: I tensorflow/compiler/xla/stream_executor/cuda/cuda_gpu_executor.cc:967] could not open file to read NUMA node: /sys/bus/pci/devices/0000:01:00.0/numa_node\n",
      "Your kernel may have been built without NUMA support.\n",
      "2023-02-24 23:32:52.841862: I tensorflow/core/common_runtime/gpu/gpu_device.cc:1700] Could not identify NUMA node of platform GPU id 0, defaulting to 0.  Your kernel may not have been built with NUMA support.\n",
      "2023-02-24 23:32:52.841896: I tensorflow/compiler/xla/stream_executor/cuda/cuda_gpu_executor.cc:967] could not open file to read NUMA node: /sys/bus/pci/devices/0000:01:00.0/numa_node\n",
      "Your kernel may have been built without NUMA support.\n",
      "2023-02-24 23:32:52.841906: W tensorflow/core/common_runtime/gpu/gpu_bfc_allocator.cc:42] Overriding orig_value setting because the TF_FORCE_GPU_ALLOW_GROWTH environment variable is set. Original config value was 0.\n",
      "2023-02-24 23:32:52.841924: I tensorflow/core/common_runtime/gpu/gpu_device.cc:1613] Created device /job:localhost/replica:0/task:0/device:GPU:0 with 7369 MB memory:  -> device: 0, name: NVIDIA GeForce RTX 3080, pci bus id: 0000:01:00.0, compute capability: 8.6\n"
     ]
    },
    {
     "name": "stdout",
     "output_type": "stream",
     "text": [
      "'compile' took 0.883640 s\n",
      "\n",
      "Initializing variables...\n",
      "Training model...\n",
      "\n"
     ]
    },
    {
     "name": "stderr",
     "output_type": "stream",
     "text": [
      "2023-02-24 23:32:53.177061: I tensorflow/compiler/mlir/mlir_graph_optimization_pass.cc:357] MLIR V1 optimization pass is not enabled\n",
      "2023-02-24 23:32:53.248229: I tensorflow/compiler/xla/service/service.cc:173] XLA service 0x7f3148005460 initialized for platform CUDA (this does not guarantee that XLA will be used). Devices:\n",
      "2023-02-24 23:32:53.248262: I tensorflow/compiler/xla/service/service.cc:181]   StreamExecutor device (0): NVIDIA GeForce RTX 3080, Compute Capability 8.6\n",
      "2023-02-24 23:32:53.254756: I tensorflow/compiler/mlir/tensorflow/utils/dump_mlir_util.cc:268] disabling MLIR crash reproducer, set env var `MLIR_CRASH_REPRODUCER_DIRECTORY` to enable.\n",
      "2023-02-24 23:32:53.437752: I tensorflow/tsl/platform/default/subprocess.cc:304] Start cannot spawn child process: No such file or directory\n",
      "2023-02-24 23:32:53.518284: I tensorflow/compiler/jit/xla_compilation_cache.cc:477] Compiled cluster using XLA!  This line is logged at most once for the lifetime of the process.\n",
      "2023-02-24 23:32:53.889802: I tensorflow/compiler/xla/stream_executor/cuda/cuda_blas.cc:630] TensorFloat-32 will be used for the matrix multiplication. This will only be logged once.\n"
     ]
    },
    {
     "name": "stdout",
     "output_type": "stream",
     "text": [
      "Step      Train loss                                                      Test loss                                                       Test metric\n",
      "0         [1.04e-02, 2.06e-03, 1.44e+00, 6.40e-01, 1.96e+00, 2.35e-01]    [1.03e-02, 2.04e-03, 1.44e+00, 6.40e-01, 1.96e+00, 2.35e-01]    []  \n",
      "1000      [5.25e-03, 3.53e-03, 8.38e-05, 2.98e-05, 1.54e-03, 7.56e-04]    [5.26e-03, 3.53e-03, 8.38e-05, 2.98e-05, 1.54e-03, 7.56e-04]    []  \n",
      "2000      [1.39e-04, 6.31e-05, 1.01e-06, 1.08e-06, 8.28e-05, 7.03e-05]    [1.39e-04, 6.30e-05, 1.01e-06, 1.08e-06, 8.28e-05, 7.03e-05]    []  \n",
      "3000      [6.47e-05, 1.69e-05, 4.95e-08, 4.38e-06, 4.07e-05, 2.32e-05]    [6.43e-05, 1.68e-05, 4.95e-08, 4.38e-06, 4.07e-05, 2.32e-05]    []  \n",
      "4000      [2.43e-04, 2.13e-04, 2.82e-06, 1.05e-05, 6.97e-04, 9.13e-05]    [2.43e-04, 2.13e-04, 2.82e-06, 1.05e-05, 6.97e-04, 9.13e-05]    []  \n",
      "5000      [1.64e-04, 5.36e-05, 2.65e-05, 7.09e-07, 3.38e-04, 8.16e-05]    [1.64e-04, 5.34e-05, 2.65e-05, 7.09e-07, 3.38e-04, 8.16e-05]    []  \n",
      "6000      [5.26e-05, 1.52e-05, 7.87e-06, 2.85e-06, 1.04e-04, 4.13e-05]    [5.24e-05, 1.51e-05, 7.87e-06, 2.85e-06, 1.04e-04, 4.13e-05]    []  \n",
      "7000      [1.56e-04, 2.79e-05, 2.99e-07, 4.24e-06, 5.66e-05, 5.50e-05]    [1.56e-04, 2.77e-05, 2.99e-07, 4.24e-06, 5.66e-05, 5.50e-05]    []  \n",
      "8000      [7.20e-06, 2.55e-06, 1.11e-06, 2.96e-07, 3.12e-06, 3.01e-06]    [7.12e-06, 2.44e-06, 1.11e-06, 2.96e-07, 3.12e-06, 3.01e-06]    []  \n",
      "9000      [8.91e-04, 5.93e-05, 5.18e-05, 4.09e-05, 5.31e-04, 4.86e-04]    [8.91e-04, 5.90e-05, 5.18e-05, 4.09e-05, 5.31e-04, 4.86e-04]    []  \n",
      "10000     [1.10e-05, 2.96e-06, 1.47e-06, 1.76e-06, 4.50e-06, 5.67e-06]    [1.10e-05, 2.91e-06, 1.47e-06, 1.76e-06, 4.50e-06, 5.67e-06]    []  \n",
      "11000     [6.28e-05, 1.49e-05, 2.03e-07, 6.66e-07, 1.52e-05, 2.16e-05]    [6.29e-05, 1.48e-05, 2.03e-07, 6.66e-07, 1.52e-05, 2.16e-05]    []  \n",
      "12000     [8.93e-06, 3.01e-06, 2.80e-06, 5.59e-08, 5.54e-06, 3.80e-06]    [8.88e-06, 3.02e-06, 2.80e-06, 5.59e-08, 5.54e-06, 3.80e-06]    []  \n",
      "13000     [7.78e-06, 2.90e-06, 1.63e-08, 2.23e-06, 5.13e-06, 3.79e-06]    [7.79e-06, 2.89e-06, 1.63e-08, 2.23e-06, 5.13e-06, 3.79e-06]    []  \n",
      "14000     [1.45e-05, 4.36e-06, 1.77e-05, 6.27e-07, 1.16e-05, 8.27e-06]    [1.45e-05, 4.36e-06, 1.77e-05, 6.27e-07, 1.16e-05, 8.27e-06]    []  \n",
      "15000     [1.32e-04, 3.04e-05, 2.07e-07, 4.27e-06, 8.12e-05, 5.44e-05]    [1.32e-04, 3.04e-05, 2.07e-07, 4.27e-06, 8.12e-05, 5.44e-05]    []  \n",
      "16000     [2.07e-06, 2.08e-06, 1.49e-06, 2.38e-07, 1.27e-05, 2.40e-06]    [2.05e-06, 2.07e-06, 1.49e-06, 2.38e-07, 1.27e-05, 2.40e-06]    []  \n",
      "17000     [5.11e-06, 5.04e-06, 2.95e-06, 2.41e-06, 1.05e-05, 6.04e-06]    [5.07e-06, 5.01e-06, 2.95e-06, 2.41e-06, 1.05e-05, 6.04e-06]    []  \n",
      "18000     [6.57e-06, 1.92e-06, 4.16e-06, 9.07e-08, 7.29e-06, 4.71e-06]    [6.55e-06, 1.91e-06, 4.16e-06, 9.07e-08, 7.29e-06, 4.71e-06]    []  \n",
      "19000     [5.24e-06, 6.75e-06, 8.36e-06, 6.13e-07, 1.01e-05, 3.05e-06]    [5.25e-06, 6.73e-06, 8.36e-06, 6.13e-07, 1.01e-05, 3.05e-06]    []  \n",
      "20000     [5.23e-06, 2.36e-06, 1.28e-08, 2.31e-07, 1.66e-05, 7.20e-06]    [5.21e-06, 2.34e-06, 1.28e-08, 2.31e-07, 1.66e-05, 7.20e-06]    []  \n",
      "21000     [5.02e-06, 3.04e-06, 7.31e-08, 1.63e-06, 2.91e-05, 3.07e-06]    [4.90e-06, 3.04e-06, 7.31e-08, 1.63e-06, 2.91e-05, 3.07e-06]    []  \n",
      "22000     [1.40e-06, 2.01e-06, 1.53e-07, 6.57e-07, 3.81e-06, 1.90e-06]    [1.39e-06, 1.99e-06, 1.53e-07, 6.57e-07, 3.81e-06, 1.90e-06]    []  \n",
      "23000     [2.70e-05, 3.30e-06, 7.69e-07, 9.67e-06, 1.39e-04, 4.76e-05]    [2.68e-05, 3.27e-06, 7.69e-07, 9.67e-06, 1.39e-04, 4.76e-05]    []  \n",
      "24000     [5.83e-05, 1.94e-05, 1.04e-05, 9.55e-07, 2.19e-04, 8.02e-05]    [5.83e-05, 1.94e-05, 1.04e-05, 9.55e-07, 2.19e-04, 8.02e-05]    []  \n",
      "25000     [5.06e-05, 6.96e-06, 5.50e-06, 2.59e-10, 3.53e-05, 2.94e-05]    [5.05e-05, 6.96e-06, 5.50e-06, 2.59e-10, 3.53e-05, 2.94e-05]    []  \n",
      "26000     [3.99e-06, 3.76e-06, 1.78e-06, 3.76e-07, 4.01e-06, 1.44e-06]    [3.99e-06, 3.75e-06, 1.78e-06, 3.76e-07, 4.01e-06, 1.44e-06]    []  \n",
      "27000     [5.03e-05, 6.49e-06, 5.88e-06, 3.90e-06, 1.08e-04, 5.89e-05]    [5.03e-05, 6.46e-06, 5.88e-06, 3.90e-06, 1.08e-04, 5.89e-05]    []  \n",
      "28000     [1.18e-05, 4.40e-06, 5.03e-07, 2.86e-07, 3.44e-05, 1.52e-05]    [1.18e-05, 4.36e-06, 5.03e-07, 2.86e-07, 3.44e-05, 1.52e-05]    []  \n",
      "29000     [3.45e-06, 2.88e-06, 4.20e-07, 2.77e-07, 3.64e-06, 2.89e-06]    [3.46e-06, 2.86e-06, 4.20e-07, 2.77e-07, 3.64e-06, 2.89e-06]    []  \n",
      "30000     [1.63e-06, 1.97e-06, 3.41e-07, 3.20e-12, 5.29e-06, 1.19e-06]    [1.64e-06, 1.95e-06, 3.41e-07, 3.20e-12, 5.29e-06, 1.19e-06]    []  \n",
      "\n",
      "Best model at step 22000:\n",
      "  train loss: 9.92e-06\n",
      "  test loss: 9.90e-06\n",
      "  test metric: []\n",
      "\n",
      "'train' took 55.143851 s\n",
      "\n",
      "Compiling model...\n",
      "Warning: For the backend tensorflow.compat.v1, `external_trainable_variables` is ignored, and all trainable ``tf.Variable`` objects are automatically collected.\n",
      "'compile' took 0.196359 s\n",
      "\n"
     ]
    },
    {
     "name": "stderr",
     "output_type": "stream",
     "text": [
      "2023-02-24 23:33:48.563141: W tensorflow/compiler/jit/mark_for_compilation_pass.cc:1780] (One-time warning): Not using XLA:CPU for cluster.\n",
      "\n",
      "If you want XLA:CPU, do one of the following:\n",
      "\n",
      " - set the TF_XLA_FLAGS to include \"--tf_xla_cpu_global_jit\", or\n",
      " - set cpu_global_jit to true on this session's OptimizerOptions, or\n",
      " - use experimental_jit_scope, or\n",
      " - use tf.function(jit_compile=True).\n",
      "\n",
      "To confirm that XLA is active, pass --vmodule=xla_compilation_cache=1 (as a\n",
      "proper command-line flag, not via TF_XLA_FLAGS).\n"
     ]
    },
    {
     "name": "stdout",
     "output_type": "stream",
     "text": [
      "Training model...\n",
      "\n",
      "Step      Train loss                                                      Test loss                                                       Test metric\n",
      "30000     [1.63e-06, 1.97e-06, 3.41e-07, 3.20e-12, 5.29e-06, 1.19e-06]    [1.64e-06, 1.95e-06, 3.41e-07, 3.20e-12, 5.29e-06, 1.19e-06]    []  \n",
      "INFO:tensorflow:Optimization terminated with:\n",
      "  Message: CONVERGENCE: REL_REDUCTION_OF_F_<=_FACTR*EPSMCH\n",
      "  Objective function value: 0.000006\n",
      "  Number of iterations: 9\n",
      "  Number of functions evaluations: 48\n",
      "30048     [1.18e-06, 1.49e-06, 8.32e-09, 1.85e-08, 2.03e-06, 1.16e-06]    [1.18e-06, 1.48e-06, 8.32e-09, 1.85e-08, 2.03e-06, 1.16e-06]    []  \n",
      "\n",
      "Best model at step 30048:\n",
      "  train loss: 5.89e-06\n",
      "  test loss: 5.88e-06\n",
      "  test metric: []\n",
      "\n",
      "'train' took 1.370877 s\n",
      "\n"
     ]
    }
   ],
   "source": [
    "model = dde.Model(data, net)\n",
    "model.compile(\n",
    "    \"adam\",\n",
    "    lr=0.001,\n",
    "    external_trainable_variables=[alpha, beta, gamma, delta]\n",
    ")\n",
    "losshistory, train_state = model.train(iterations=30000)\n",
    "model.compile(\"L-BFGS\", external_trainable_variables=[alpha, beta, gamma, delta])\n",
    "losshistory, train_state = model.train()"
   ]
  },
  {
   "cell_type": "code",
   "execution_count": 13,
   "metadata": {},
   "outputs": [
    {
     "data": {
      "image/png": "[encoded data removed]",
      "text/plain": [
       "<Figure size 640x480 with 1 Axes>"
      ]
     },
     "metadata": {},
     "output_type": "display_data"
    }
   ],
   "source": [
    "dde.utils.external.plot_loss_history(losshistory)"
   ]
  },
  {
   "cell_type": "code",
   "execution_count": 14,
   "metadata": {},
   "outputs": [
    {
     "data": {
      "image/png": "[encoded data removed]",
      "text/plain": [
       "<Figure size 640x480 with 1 Axes>"
      ]
     },
     "metadata": {},
     "output_type": "display_data"
    }
   ],
   "source": [
    "x_true = Y_train[:, 0:1]\n",
    "y_true = Y_train[:, 1:2]\n",
    "plt.plot(t_train, x_true, color=\"green\", label=\"x_true\")\n",
    "plt.plot(t_train, y_true, color=\"blue\", label=\"y_true\")\n",
    "\n",
    "sol_pred = model.predict(t_train.reshape(-1, 1))\n",
    "x_pred = sol_pred[:, 0:1]\n",
    "y_pred = sol_pred[:, 1:2]\n",
    "\n",
    "plt.plot(t_train, x_pred, color=\"red\", linestyle=\"dashed\", label=\"x_pred\")\n",
    "plt.plot(t_train, y_pred, color=\"orange\", linestyle=\"dashed\", label=\"y_pred\")\n",
    "plt.legend()\n",
    "plt.show()"
   ]
  },
  {
   "attachments": {},
   "cell_type": "markdown",
   "metadata": {},
   "source": [
    "$$(-\\Delta)^{\\alpha/2} u(x) = C(\\alpha, D) \\int_{||\\theta||=1} D_\\theta^\\alpha u(x) d \\theta$$"
   ]
  },
  {
   "cell_type": "markdown",
   "metadata": {},
   "source": []
  }
 ],
 "metadata": {
  "kernelspec": {
   "display_name": "pinn",
   "language": "python",
   "name": "python3"
  },
  "language_info": {
   "codemirror_mode": {
    "name": "ipython",
    "version": 3
   },
   "file_extension": ".py",
   "mimetype": "text/x-python",
   "name": "python",
   "nbconvert_exporter": "python",
   "pygments_lexer": "ipython3",
   "version": "3.10.9"
  },
  "orig_nbformat": 4,
  "vscode": {
   "interpreter": {
    "hash": "405c5bcf4c9032db942388c872eee0e913b5e1c707337a4970c84578e3301274"
   }
  }
 },
 "nbformat": 4,
 "nbformat_minor": 2
}
