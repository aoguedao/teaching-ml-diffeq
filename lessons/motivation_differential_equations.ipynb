{
 "cells": [
  {
   "attachments": {},
   "cell_type": "markdown",
   "metadata": {},
   "source": [
    "# Differential Equations"
   ]
  },
  {
   "attachments": {},
   "cell_type": "markdown",
   "metadata": {},
   "source": [
    "An equation involving one dependent variable and its derivatives with respect to one or more independent variables is called a _differential equation_.\n",
    "Many of the general laws of nature—in physics, chemistry, biology, and astronomy—find their most natural expression in the language of differential equations. Applications also abound in mathematics itself, especially in geometry, and in engineering, economics, and many other fields of applied science {cite}'simmons2016differential'."
   ]
  },
  {
   "attachments": {},
   "cell_type": "markdown",
   "metadata": {},
   "source": [
    "At the beginning of our mathematical education we learned how to deal with simple equations such as\n",
    "\n",
    "$$\n",
    "2 x - 4 = x + 5\n",
    "$$\n",
    "\n",
    "and how to solve them (yep, the answer is $x=3$). But later we realized the solution of a equation could be not unique or even it could not exist. In these kind of equation we wanted to find the value of $x$, a number. Now we will try to extend this to equations where we need to find a __function__ $f(x)$. Just like $2x$ or $\\cos(x)$ are operations we applied on $x$, we can think that $2 f(x)$ and $\\cos(f(x))$ are applied on $f(x)$. However, we will be interested in equations involving the derivatives of $f(x)$."
   ]
  },
  {
   "attachments": {},
   "cell_type": "markdown",
   "metadata": {},
   "source": [
    "You will recall that if $y=f(x)$ is a given function, then its derivative $dy/dx$ can be interpreted as the rate of change of $y$ with respect to $$. In any natural process, the variables involved and their rates of change are connected with one another by means of the basic scientific principles that govern the process. When this connection is expressed in mathematical symbols, the result is often a differential equation."
   ]
  },
  {
   "attachments": {},
   "cell_type": "markdown",
   "metadata": {},
   "source": [
    "## Some examples"
   ]
  },
  {
   "attachments": {},
   "cell_type": "markdown",
   "metadata": {},
   "source": [
    "Just for listing a few examples of differential equations:\n",
    "\n",
    "$$\n",
    "\\frac{dy}{dt} = -k y \\\\\n",
    "m\\frac{d^2 y}{dt^2} = -k y\\\\\n",
    "\\frac{dy}{dx} + 2xy = e^{-x^2}\\\\\n",
    "\\frac{d^2y}{dx^2} - 5 \\frac{dy}{dx} + 6y = 0\\\\\n",
    "$$\n",
    "where the dependent variable in each of these equations is $y$, and the independent variable is either $t$ or $x$. The letters $k$ and $m$ represent constants (usually associated a some physical phenomenom)."
   ]
  },
  {
   "attachments": {},
   "cell_type": "markdown",
   "metadata": {},
   "source": [
    "An __ordinary differential equation__ is one in which there is only one independent variable, so that all the derivatives occurring in it are ordinary derivatives.\n",
    "\n",
    "The __order__ of a differential equation is the order of the highest derivative present. "
   ]
  },
  {
   "attachments": {},
   "cell_type": "markdown",
   "metadata": {},
   "source": [
    "A general ordinary differential equation of $n$-th order can be written as \n",
    "\n",
    "$$\n",
    "F\\left( x, y, \\frac{dy}{dx}, \\frac{d^2y}{dx^2}, \\ldots, \\frac{d^n y}{dx^n} \\right) = 0\n",
    "$$\n",
    "where $F$ is just an operator. Any adequate theoretical discussion of this equation would have to be based on a careful study of explicitly assumed properties of the function $F$."
   ]
  },
  {
   "attachments": {},
   "cell_type": "markdown",
   "metadata": {},
   "source": [
    "Consider the equation\n",
    "$$\n",
    "\\frac{dy}{dx} = 2 y,\n",
    "$$\n",
    "it is simple to verify that the function $y = e^{2x}$ it is a solution. The problem of starting with a differential equation and finding a solution is naturally much more difficult.\n",
    "\n",
    "There are several solving methods for different types of ordinary differential equations, most of them covered in books. However, sometimes it is hard to find an analytical solution and then it is necesarry to apply numerical methods. Next lessons will include examples of numerical applications on ordinary differential equations."
   ]
  }
 ],
 "metadata": {
  "kernelspec": {
   "display_name": "nc-book",
   "language": "python",
   "name": "python3"
  },
  "language_info": {
   "name": "python",
   "version": "3.10.9"
  },
  "orig_nbformat": 4,
  "vscode": {
   "interpreter": {
    "hash": "4f3e2b28fd3f3a22e3dea22149b15a05708922f713d10273ca3bd50e5d258727"
   }
  }
 },
 "nbformat": 4,
 "nbformat_minor": 2
}
