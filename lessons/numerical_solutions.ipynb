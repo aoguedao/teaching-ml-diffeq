{
 "cells": [
  {
   "attachments": {},
   "cell_type": "markdown",
   "metadata": {},
   "source": [
    "# Numerical Solutions"
   ]
  },
  {
   "attachments": {},
   "cell_type": "markdown",
   "metadata": {},
   "source": [
    "Often we can't find an analytical solution, therefore there are some classic approaches for finding numerical solutions. We will focus in just one for this lesson."
   ]
  },
  {
   "attachments": {},
   "cell_type": "markdown",
   "metadata": {},
   "source": [
    "## Runge Kuta "
   ]
  },
  {
   "attachments": {},
   "cell_type": "markdown",
   "metadata": {},
   "source": [
    "Single-step Runge–Kutta methods associate a function $\\Phi(t, y, h)$ which requires (possibly repeated) function evaluations of $f(t, y)$ but not its derivatives.\n",
    "\n",
    "In general, single-step Runge–Kutta methods have the form:\n",
    "\n",
    "$$\n",
    "y_0 = y(a) \\\\\n",
    "y_{k+1} = y_k + h \\Phi(t_k ,y_k, h)\n",
    "$$\n",
    "where\n",
    "$$\n",
    "\\Phi(t_k ,y_k, h) = \\sum_{r=1}^R c_r K_r, \\\\\n",
    "K_1 = f(t, y), \\\\\n",
    "K_r = f(t + a_r h, y + h \\sum_{s=1}^{r-1}b_{rs} K_s), \\\\\n",
    "a_r = \\sum_{s=1}^{r-1}b_{rs}, \\qquad r=2, 3, \\ldots, R\n",
    "$$"
   ]
  },
  {
   "attachments": {},
   "cell_type": "markdown",
   "metadata": {},
   "source": [
    "The most well-known Runge–Kutta scheme (from elementary numerical analysis texts) is 4-th order; it has the\n",
    "form:\n",
    "\n",
    "$$\n",
    "y_0 = y(t_0) \\\\\n",
    "y_{k+1} = y_k + \\frac{h}{6} \\left[ K_1 + 2 K_2 + 2 K_3 + K4 \\right] \\\\\n",
    "K_1 = f(t_k, y_k) \\\\\n",
    "K_2 = f\\left(t_k + \\frac{h}{2}, y_k + \\frac{h}{2} K_1 \\right) \\\\\n",
    "K_3 = f\\left(t_k + \\frac{h}{2}, y_k + \\frac{h}{2} K_2 \\right) \\\\\n",
    "K_4 = f(t_k + h, y_k + h K_3)\n",
    "$$\n",
    "i.e.,\n",
    "$$\n",
    "\\Phi(t_k, y_k, h) = \\frac{h}{6} \\left[ K_1 + 2 K_2 + 2 K_3 + K4 \\right]\n",
    "$$"
   ]
  },
  {
   "attachments": {},
   "cell_type": "markdown",
   "metadata": {},
   "source": [
    "### Implementation"
   ]
  },
  {
   "attachments": {},
   "cell_type": "markdown",
   "metadata": {},
   "source": [
    "Let's consider the following initial value problem"
   ]
  },
  {
   "attachments": {},
   "cell_type": "markdown",
   "metadata": {},
   "source": [
    "$$\n",
    "y^\\prime(t) = \\frac{t}{9} \\cos(2y) + t^2 \\\\\n",
    "y(0) = 1\n",
    "$$"
   ]
  },
  {
   "attachments": {},
   "cell_type": "markdown",
   "metadata": {},
   "source": [
    "We need a package for scientific computing (`numpy`), plotting (`matplotlib`) and a tool for solving initial values problems with Runge-Kuta methods (`scipy.integrate.solve_ivp`)."
   ]
  },
  {
   "cell_type": "code",
   "execution_count": null,
   "metadata": {},
   "outputs": [],
   "source": [
    "import numpy as np\n",
    "import matplotlib.pyplot as plt\n",
    "\n",
    "from scipy.integrate import solve_ivp"
   ]
  },
  {
   "attachments": {},
   "cell_type": "markdown",
   "metadata": {},
   "source": [
    "First of all, you need to define a function which takes as arguments $t$ and $y$ and returns the right side of the equation. In this case,\n",
    "$$\n",
    "f(t, y) = \\frac{t}{9} \\cos(2y) + t^2\n",
    "$$"
   ]
  },
  {
   "cell_type": "code",
   "execution_count": null,
   "metadata": {},
   "outputs": [],
   "source": [
    "def f(t, y):\n",
    "    return t / 9 * np.cos(2 * y) + t ** 2"
   ]
  },
  {
   "attachments": {},
   "cell_type": "markdown",
   "metadata": {},
   "source": [
    "Now, we need to define the domain where we will solve the equation. Since our initial condition is in $t_0=0$ our domain must include it. And consider, just as an example, the final time as $t_n = 10$ and $h=0.5$ (later you can try smaller values!)."
   ]
  },
  {
   "cell_type": "code",
   "execution_count": null,
   "metadata": {},
   "outputs": [],
   "source": [
    "t0 = 0\n",
    "tn = 10\n",
    "h = 0.5\n",
    "t_array = np.arange(t0, tn, h)\n",
    "t_array"
   ]
  },
  {
   "attachments": {},
   "cell_type": "markdown",
   "metadata": {},
   "source": [
    "Note that `solve_ivp` function only needs $f(t, y)$, a timespan (`t_span`) and initial conditions (`y_0`), however, we can include the points where the solution we will be evaluate with `t_eval`."
   ]
  },
  {
   "cell_type": "code",
   "execution_count": null,
   "metadata": {},
   "outputs": [],
   "source": [
    "sol = solve_ivp(f, t_span=[0, 10], y0=[1], t_eval=t_array)"
   ]
  },
  {
   "attachments": {},
   "cell_type": "markdown",
   "metadata": {},
   "source": [
    "Finally, you can get the solution points with `sol.y` but for ploting we need a flat array (just use `.flatten()` method)."
   ]
  },
  {
   "cell_type": "code",
   "execution_count": null,
   "metadata": {},
   "outputs": [],
   "source": [
    "y_sol = sol.y.flatten()\n",
    "plt.plot(t_array, y_sol, linestyle=\"dashed\")"
   ]
  }
 ],
 "metadata": {
  "kernelspec": {
   "display_name": "sciml-edu",
   "language": "python",
   "name": "python3"
  },
  "language_info": {
   "codemirror_mode": {
    "name": "ipython",
    "version": 3
   },
   "file_extension": ".py",
   "mimetype": "text/x-python",
   "name": "python",
   "nbconvert_exporter": "python",
   "pygments_lexer": "ipython3",
   "version": "3.10.9"
  },
  "orig_nbformat": 4,
  "vscode": {
   "interpreter": {
    "hash": "4f3e2b28fd3f3a22e3dea22149b15a05708922f713d10273ca3bd50e5d258727"
   }
  }
 },
 "nbformat": 4,
 "nbformat_minor": 2
}
